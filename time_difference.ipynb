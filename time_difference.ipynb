{
 "cells": [
  {
   "cell_type": "code",
   "execution_count": null,
   "metadata": {},
   "outputs": [],
   "source": [
    "!pip install paho-mqtt"
   ]
  },
  {
   "cell_type": "code",
   "execution_count": null,
   "metadata": {},
   "outputs": [],
   "source": [
    "import paho.mqtt.client as mqtt\n",
    "import ssl\n",
    "import time\n",
    "from datetime import datetime, timedelta\n",
    "\n",
    "MQTT_BROKER = \"mqtts://097d1c9a75344b39bdd151c2ed02f4af.s1.eu.hivemq.cloud\"\n",
    "MQTT_PORT = 8883\n",
    "MQTT_TOPIC = \"/rtt\"\n",
    "MQTT_USERNAME = \"LorenzoIndividual\"\n",
    "MQTT_PASSWORD = \"Lorenzo00\"\n",
    "MQTT_CLIENT_ID = \"Rtt computing\"\n",
    "\n",
    "# Callback function for MQTT message\n",
    "# Callback function for MQTT message\n",
    "\n",
    "time_differences = []\n",
    "\n",
    "def on_message(client, userdata, msg):\n",
    "    try:\n",
    "        received_time = datetime.strptime(msg.payload.decode('utf-8'), \"%Y-%m-%d %H:%M:%S.%f\")\n",
    "        current_time = datetime.now()\n",
    "        time_difference = received_time - current_time\n",
    "        print(\"Time difference:\", time_difference.microseconds)\n",
    "        time_differences.append(time_difference.microseconds)\n",
    "\n",
    "    except UnicodeDecodeError:\n",
    "        print(\"Error decoding message payload:\", msg.payload)\n",
    "\n",
    "\n",
    "# Create MQTT client\n",
    "client = mqtt.Client(client_id=MQTT_CLIENT_ID, clean_session=True, userdata=None, protocol=mqtt.MQTTv311)\n",
    "\n",
    "# Set up TLS configuration\n",
    "client.tls_set(cert_reqs=ssl.CERT_REQUIRED)  # Change to ssl.CERT_REQUIRED if server has CA signed certificate\n",
    "client.tls_insecure_set(False)  # Set to False if server has CA signed certificate\n",
    "\n",
    "# Connect to the broker\n",
    "client.username_pw_set(username=MQTT_USERNAME, password=MQTT_PASSWORD)\n",
    "client.connect(MQTT_BROKER, MQTT_PORT)\n",
    "\n",
    "# Subscribe to the topic\n",
    "client.subscribe(MQTT_TOPIC)\n",
    "client.on_message = on_message\n",
    "\n",
    "# Start the MQTT loop\n",
    "client.loop_forever()\n",
    "\n"
   ]
  },
  {
   "cell_type": "code",
   "execution_count": null,
   "metadata": {},
   "outputs": [],
   "source": [
    "import numpy as np\n",
    "mean_rtt = np.mean(time_differences)\n",
    "print(\"On\",len(time_differences),\"samples, the average round trip time is\",mean_rtt/1000,\"(ms)\")"
   ]
  }
 ],
 "metadata": {
  "kernelspec": {
   "display_name": "Python 3",
   "language": "python",
   "name": "python3"
  },
  "language_info": {
   "codemirror_mode": {
    "name": "ipython",
    "version": 3
   },
   "file_extension": ".py",
   "mimetype": "text/x-python",
   "name": "python",
   "nbconvert_exporter": "python",
   "pygments_lexer": "ipython3",
   "version": "3.8.2"
  }
 },
 "nbformat": 4,
 "nbformat_minor": 2
}
